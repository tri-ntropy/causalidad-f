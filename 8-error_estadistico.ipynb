{
 "cells": [
  {
   "cell_type": "markdown",
   "id": "552858c2-e596-46f3-abda-13878a3eac97",
   "metadata": {},
   "source": [
    "## Importación de bibliotecas"
   ]
  },
  {
   "cell_type": "code",
   "execution_count": 1,
   "id": "e22201e4-8b24-46e7-85a5-efa26342ae6f",
   "metadata": {},
   "outputs": [],
   "source": [
    "import numpy as np"
   ]
  },
  {
   "cell_type": "markdown",
   "id": "313d271f-3ddd-45c9-ba27-bf4fe8781394",
   "metadata": {},
   "source": [
    "## Ruta de archivos"
   ]
  },
  {
   "cell_type": "code",
   "execution_count": 2,
   "id": "599e5468-6cb2-4263-b0ca-d67dd1cc2189",
   "metadata": {},
   "outputs": [],
   "source": [
    "ruta = \"datos/caracter_entropia/\""
   ]
  },
  {
   "cell_type": "markdown",
   "id": "eaa471a1-2cfb-4cdb-94b4-c9ef4669eef6",
   "metadata": {},
   "source": [
    "## \"Metadatos\""
   ]
  },
  {
   "cell_type": "code",
   "execution_count": 3,
   "id": "5eec7340-d4d9-4564-8f72-35801be5f979",
   "metadata": {},
   "outputs": [],
   "source": [
    "casos = [\"ab\", \"ba\", \"cd\", \"dc\", \"ce\", \"ec\", \"ab-ba\", \"ba-ab\", \"cd-dc\", \"dc-cd\", \"ce-ec\", \"ec-ce\"]"
   ]
  },
  {
   "cell_type": "markdown",
   "id": "ca9cd8f8-d887-48ae-8863-a7c0f8be2962",
   "metadata": {},
   "source": [
    "## Construcción del diccionario del error y promedio"
   ]
  },
  {
   "cell_type": "code",
   "execution_count": 4,
   "id": "68d2c5a2-f9fe-49be-a42f-54201f640bf2",
   "metadata": {},
   "outputs": [],
   "source": [
    "error = {}\n",
    "promedio = {}\n",
    "for caso in casos:\n",
    "    error[caso] = np.abs(np.loadtxt(ruta + \"error_\" + caso + \".csv\")).max()\n",
    "    promedio[caso] = np.abs(np.loadtxt(ruta + \"promedio_\" + caso + \".csv\")).max()"
   ]
  },
  {
   "cell_type": "markdown",
   "id": "0a4a8abf-c0a6-4de4-93a1-c1e212bb8284",
   "metadata": {},
   "source": [
    "## Valores máximos del error"
   ]
  },
  {
   "cell_type": "code",
   "execution_count": 5,
   "id": "25cc83f1-09cf-4c09-8f0b-7d68635a3f05",
   "metadata": {},
   "outputs": [
    {
     "name": "stdout",
     "output_type": "stream",
     "text": [
      "\tab:  0.00109946555\n",
      "\tba:  0.00109946555\n",
      "\tcd:  0.00046014558\n",
      "\tdc:  0.00046014558\n",
      "\tce:  0.00033295775\n",
      "\tec:  0.00025760403\n",
      "\tab-ba:  0.0\n",
      "\tba-ab:  0.0\n",
      "\tcd-dc:  0.0\n",
      "\tdc-cd:  0.0\n",
      "\tce-ec:  0.00031268216\n",
      "\tec-ce:  0.00031268216\n",
      "\n",
      " Máximo error:  0.0010994655495245767\n"
     ]
    }
   ],
   "source": [
    "ve = np.empty(0)\n",
    "for caso in casos:\n",
    "    e = error[caso]**0.5\n",
    "    print(\"\\t\" + caso + \": \", np.around(e, decimals = 11))\n",
    "    ve = np.append(ve, e)\n",
    "\n",
    "print(\"\\n\", \"Máximo error: \", ve.max())"
   ]
  },
  {
   "cell_type": "markdown",
   "id": "af29cbde-b254-416e-91fa-35b015a7fa4a",
   "metadata": {},
   "source": [
    "## Porcentajes máximos del error respecto al valor promedio"
   ]
  },
  {
   "cell_type": "code",
   "execution_count": 6,
   "id": "b80cae1e-ff32-4544-8020-3aaab1fe4d46",
   "metadata": {},
   "outputs": [
    {
     "name": "stdout",
     "output_type": "stream",
     "text": [
      "\tab:  1.1531320530527476\n",
      "\tba:  1.1531320530527476\n",
      "\tcd:  0.669467594747589\n",
      "\tdc:  0.669467594747589\n",
      "\tce:  7.621264341771348\n",
      "\tec:  3.793431014317497\n",
      "\tab-ba:  0\n",
      "\tba-ab:  0\n",
      "\tcd-dc:  0\n",
      "\tdc-cd:  0\n",
      "\tce-ec:  4.829114686010761\n",
      "\tec-ce:  4.829114686010761\n",
      "\n",
      " Máximo % del error:  7.621264341771348\n"
     ]
    }
   ],
   "source": [
    "vpe = np.empty(0)\n",
    "for caso in casos:\n",
    "        e = error[caso] ** 0.5\n",
    "        p = promedio[caso]\n",
    "        if p == 0:\n",
    "            pe = 0\n",
    "        else:\n",
    "            pe = (100 * e) / p\n",
    "        print(\"\\t\" + caso + \": \", pe)\n",
    "        vpe = np.append(vpe, pe)\n",
    "\n",
    "print(\"\\n\", \"Máximo % del error: \", vpe.max())"
   ]
  }
 ],
 "metadata": {
  "kernelspec": {
   "display_name": "Python 3 (ipykernel)",
   "language": "python",
   "name": "python3"
  },
  "language_info": {
   "codemirror_mode": {
    "name": "ipython",
    "version": 3
   },
   "file_extension": ".py",
   "mimetype": "text/x-python",
   "name": "python",
   "nbconvert_exporter": "python",
   "pygments_lexer": "ipython3",
   "version": "3.9.12"
  }
 },
 "nbformat": 4,
 "nbformat_minor": 5
}
