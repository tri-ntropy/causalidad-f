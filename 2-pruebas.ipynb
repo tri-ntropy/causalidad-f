{
 "cells": [
  {
   "cell_type": "markdown",
   "id": "d5917d43-27dd-4a54-8eaa-f04b8fb0e09c",
   "metadata": {},
   "source": [
    "# Pruebas de Fourier"
   ]
  },
  {
   "cell_type": "markdown",
   "id": "59b5ce9d-25bf-45ff-918d-00a8d39ff549",
   "metadata": {
    "tags": []
   },
   "source": [
    "## Modelo de Fourier\n",
    "## $$\\dfrac{\\partial T}{\\partial t} = \\alpha \\dfrac{\\partial^2 T}{\\partial x^2}$$\n",
    "\n",
    "## $$q = - \\dfrac{\\partial T}{\\partial x}$$\n",
    "\n",
    "## Con las variables causales\n",
    "### $A = \\dfrac{\\partial T}{\\partial t}, \\quad B = \\dfrac{\\partial^2 T}{\\partial x^2}$\n",
    "### $C = q, \\quad D  = \\dfrac{\\partial T}{\\partial x}, \\quad E = T$"
   ]
  },
  {
   "cell_type": "markdown",
   "id": "e558889c-03e1-4c11-b39a-871c41a85c5a",
   "metadata": {},
   "source": [
    "La ecuación de transporte esta dada en su forma adimensional por medio de las siguientes variables adimensionales y parámetros:\n",
    "* $T$ es la temperatura\n",
    "* $t$ es el tiempo\n",
    "* $x$ es la dirección espacial x\n",
    "* $q$ es el flujo de calor\n",
    "* El parámetro $\\alpha$ es el número de Fourier $\\alpha = D t_c L^{-2}$\n",
    "* Con $t_c$ es el tiempo característico, $D$ es la difusividad térmica del material y $L$ es la longitud del material\n",
    "* Con $\\Delta t_q$ es el tiempo de retardo del flujo de calor\n",
    "\n",
    "Este problema en particular se va a resolver para dos casos a las condiciones de frontera:\n",
    "\n",
    "Determinista\n",
    "* $\\quad T(x = 1, t) = 1 \\quad$ $T(x = 0, t) = \\mu_\\epsilon$\n",
    "\n",
    "Estocástico\n",
    "* $\\quad T(x = 1, t) = 1 \\quad$ $T(x = 0, t) = \\epsilon(t)$ \n",
    "\n",
    "Con $\\epsilon(t)$ ruido blanco Gaussiano y $\\mu_\\epsilon$ su promedio\n",
    "\n",
    "Y la condición inicial para ambos casos\n",
    "* $T(x, t = 0) = 1 + \\mu_\\epsilon (1-x)$"
   ]
  },
  {
   "cell_type": "markdown",
   "id": "60264904-656a-4a64-9b84-a3686fdec550",
   "metadata": {
    "tags": []
   },
   "source": [
    "### Importación de bibliotecas y módulos"
   ]
  },
  {
   "cell_type": "code",
   "execution_count": 1,
   "id": "839f14a7-279a-4e90-9470-f3920c542c54",
   "metadata": {},
   "outputs": [],
   "source": [
    "from IPython import display\n",
    "import ipywidgets\n",
    "import numpy as np               \n",
    "import matplotlib.pyplot as plt  \n",
    "import seaborn as sns\n",
    "from numba import jit\n",
    "import modulo_fourier as mf"
   ]
  },
  {
   "cell_type": "markdown",
   "id": "ebc131d3-080f-4e58-9943-fd84c614376d",
   "metadata": {},
   "source": [
    "### Opciones de graficación\n",
    "Estética de las gráficas"
   ]
  },
  {
   "cell_type": "code",
   "execution_count": 2,
   "id": "d857d387-9043-4a63-a843-e4bd5f89bfcd",
   "metadata": {},
   "outputs": [],
   "source": [
    "sns.set_style(\"darkgrid\")\n",
    "sns.set_context(\"paper\", font_scale = 1.6)"
   ]
  },
  {
   "cell_type": "markdown",
   "id": "d1afa809-8f94-40c8-8116-522ba8c74e0c",
   "metadata": {},
   "source": [
    "## Función de simulación\n",
    "Dependiendo de la frontera, se tiene la simulacion determinista o estocastica"
   ]
  },
  {
   "cell_type": "code",
   "execution_count": 3,
   "id": "e0241292-ef81-4553-aa71-31503c9ce53a",
   "metadata": {},
   "outputs": [],
   "source": [
    "@jit(nopython = True)\n",
    "def simulacion(frontera):\n",
    "    global nx, nt, alfa, tau, dx, dt, xpi, perfil_analitico, variacion_inicial\n",
    "    # Condicion inicial\n",
    "    temperatura = perfil_analitico + variacion_inicial\n",
    "    u = np.zeros(nx + 1)\n",
    "    # Inicializacion de las series de tiempo\n",
    "    serie_a = np.empty(nt)\n",
    "    serie_b = np.empty(nt)\n",
    "    serie_c = np.empty(nt)\n",
    "    serie_d = np.empty(nt)\n",
    "    serie_e = np.empty(nt)\n",
    "    error_temperatura = np.empty(nt)\n",
    "    error_flujocalor = np.empty(nt)\n",
    "    # Proceso de la simulacion\n",
    "    for n in range(nt):\n",
    "        # Frontera. Al instante n se le asigna el valor correspondiente a la frontera\n",
    "        temperatura[0] = frontera[n]\n",
    "        # Calculo de la Temperatura\n",
    "        temperatura = mf.rungekutta(temperatura, alfa, dx, dt)\n",
    "        # Calculo del flujo de calor\n",
    "        grad_temperatura = mf.ddx(temperatura, dx, full = True)\n",
    "        flujocalor = mf.calc_q(grad_temperatura)\n",
    "    return temperatura"
   ]
  },
  {
   "cell_type": "markdown",
   "id": "4bc91eea-4f01-4ccb-a924-935fbbca89c3",
   "metadata": {},
   "source": [
    "## Archivo del ensamble de realizaciones de la frontera"
   ]
  },
  {
   "cell_type": "code",
   "execution_count": 4,
   "id": "786e0197-07fe-4521-b179-94a99775de5b",
   "metadata": {},
   "outputs": [
    {
     "data": {
      "text/plain": [
       "(3, 50001)"
      ]
     },
     "execution_count": 4,
     "metadata": {},
     "output_type": "execute_result"
    }
   ],
   "source": [
    "ensamble_fronteras = np.loadtxt(\"datos/base/fronteras.csv\", delimiter = \",\")\n",
    "ensamble_fronteras.shape"
   ]
  },
  {
   "cell_type": "markdown",
   "id": "b5013c0c-d27e-4af1-9c25-c0b0221c9737",
   "metadata": {},
   "source": [
    "## Archivo de la condición inicial de la Temperatura"
   ]
  },
  {
   "cell_type": "code",
   "execution_count": 5,
   "id": "a838bcf2-6947-4149-a430-37f4c1f1d191",
   "metadata": {},
   "outputs": [
    {
     "data": {
      "text/plain": [
       "(3, 161)"
      ]
     },
     "execution_count": 5,
     "metadata": {},
     "output_type": "execute_result"
    }
   ],
   "source": [
    "condicion_inicial = np.loadtxt(\"datos/base/variacion_inicial.csv\")\n",
    "condicion_inicial.shape"
   ]
  },
  {
   "cell_type": "markdown",
   "id": "d91783a5-0ce5-495e-b539-a625369e28be",
   "metadata": {
    "tags": []
   },
   "source": [
    "## Dominio espacial\n",
    "\n",
    "La solución numérica del problema se presenta solo en una dimensión espacial"
   ]
  },
  {
   "cell_type": "code",
   "execution_count": 6,
   "id": "36374a87-f537-4f25-b7c9-81d53acb7724",
   "metadata": {},
   "outputs": [
    {
     "data": {
      "text/plain": [
       "0.00625"
      ]
     },
     "execution_count": 6,
     "metadata": {},
     "output_type": "execute_result"
    }
   ],
   "source": [
    "x = np.loadtxt(\"datos/base/espacio_simulacion.csv\")  # Vector del dominio espacial\n",
    "nx = x.size                                          # Numero de puntos en el espacio\n",
    "Lx = x[-1]                                           # Longitud del dominio espacial\n",
    "dx = x[1] - x[0]                                     # Tamaño de paso en el espacio\n",
    "dx"
   ]
  },
  {
   "cell_type": "markdown",
   "id": "a91fe7a5-f167-412c-ac63-90dae4478b01",
   "metadata": {
    "tags": []
   },
   "source": [
    "## Dominio temporal\n",
    "\n",
    "El tiempo que se pretende dar solución al sistema de ecuaciones"
   ]
  },
  {
   "cell_type": "code",
   "execution_count": 7,
   "id": "fda29988-20a5-4077-bb2a-00dd8fdecc8d",
   "metadata": {},
   "outputs": [
    {
     "data": {
      "text/plain": [
       "2e-05"
      ]
     },
     "execution_count": 7,
     "metadata": {},
     "output_type": "execute_result"
    }
   ],
   "source": [
    "t = np.loadtxt(\"datos/base/tiempo_simulacion.csv\")  # Vector del dominio temporal\n",
    "nt = t.size                                         # Numero de puntos en el tiempo\n",
    "Lt = t[-1]                                          # Longitud del dominio temporal\n",
    "dt = t[1] - t[0]                                    # Tamaño de paso en el tiempo \n",
    "dt"
   ]
  },
  {
   "cell_type": "markdown",
   "id": "397dae28-f70c-4da5-9540-9184024acba7",
   "metadata": {},
   "source": [
    "## Fronteras"
   ]
  },
  {
   "cell_type": "code",
   "execution_count": 8,
   "id": "6b647b23-a35d-483e-ad9e-549ebd2aaccb",
   "metadata": {},
   "outputs": [],
   "source": [
    "frontera_est = ensamble_fronteras[0]\n",
    "frontera_det = np.mean(frontera_est) * np.ones(nt)"
   ]
  },
  {
   "cell_type": "markdown",
   "id": "0c1f6886-6604-4c02-8336-39c520e10155",
   "metadata": {},
   "source": [
    "## Variación inicial"
   ]
  },
  {
   "cell_type": "code",
   "execution_count": 9,
   "id": "33eb7083-c01c-47fd-94d9-c07a19a04377",
   "metadata": {},
   "outputs": [],
   "source": [
    "variacion_inicial = condicion_inicial[0]"
   ]
  },
  {
   "cell_type": "markdown",
   "id": "25e0f165-6ad8-401b-bea1-8cc3efc14025",
   "metadata": {
    "tags": []
   },
   "source": [
    "## Solución analítica del estado estacionario\n",
    "$ T(x) = 1 + \\mu_\\epsilon (1 - x)$"
   ]
  },
  {
   "cell_type": "code",
   "execution_count": 10,
   "id": "58c735b3-141f-494d-a19a-b68e3d5ba04d",
   "metadata": {},
   "outputs": [],
   "source": [
    "mu_frontera = np.mean(frontera_est) - 1.0\n",
    "perfil_analitico = 1.0 + mu_frontera * (1.0 - x) "
   ]
  },
  {
   "cell_type": "markdown",
   "id": "3a2d5fc0-d83b-487e-87b5-a6b0a91f0aa3",
   "metadata": {},
   "source": [
    "## Parámetros de la simulación"
   ]
  },
  {
   "cell_type": "markdown",
   "id": "04dae52e-4e55-4b2b-8390-8187c3b238d8",
   "metadata": {},
   "source": [
    "Para los arreglos"
   ]
  },
  {
   "cell_type": "code",
   "execution_count": 11,
   "id": "68b0d03e-72bb-4750-ba19-0d8a94f4d0a0",
   "metadata": {},
   "outputs": [
    {
     "data": {
      "text/plain": [
       "0.2"
      ]
     },
     "execution_count": 11,
     "metadata": {},
     "output_type": "execute_result"
    }
   ],
   "source": [
    "xpi = int(nx / 5)                 # Punto de interes donde se capturan las series de tiempo\n",
    "nr = ensamble_fronteras.shape[0]  # Numero de realizaciones del ensamble\n",
    "x[xpi]"
   ]
  },
  {
   "cell_type": "markdown",
   "id": "9401a2b7-09b8-4396-ace2-72a8001222a6",
   "metadata": {},
   "source": [
    "Valores termodinámicos"
   ]
  },
  {
   "cell_type": "code",
   "execution_count": 12,
   "id": "65292834-b956-4380-a150-d4df6a39aceb",
   "metadata": {},
   "outputs": [
    {
     "data": {
      "text/plain": [
       "1.0"
      ]
     },
     "execution_count": 12,
     "metadata": {},
     "output_type": "execute_result"
    }
   ],
   "source": [
    "difusividad = 1.0                         # Valor de referencia de la difusividad\n",
    "t_c = (Lx * Lx) / difusividad             # Tiempo caracteriztico\n",
    "num_alfa = difusividad * t_c / (Lx * Lx)  # Valor del parametro alfa\n",
    "t_c"
   ]
  },
  {
   "cell_type": "markdown",
   "id": "fa8fee36-7c62-4f5d-9121-64f59e94a0b1",
   "metadata": {},
   "source": [
    "Número de Fourier"
   ]
  },
  {
   "cell_type": "code",
   "execution_count": 13,
   "id": "2291223e-d7d3-430e-be94-03315fd645f6",
   "metadata": {},
   "outputs": [],
   "source": [
    "alfa = num_alfa * np.ones(nx)  # Vector/arreglo alfa\n",
    "alfa[0], alfa[-1] = 0, 0       # Extremos del vector/arreglo alfa"
   ]
  },
  {
   "cell_type": "markdown",
   "id": "53831649-3457-4274-b8d5-2b533bbc3313",
   "metadata": {
    "tags": []
   },
   "source": [
    "## Inicialización"
   ]
  },
  {
   "cell_type": "code",
   "execution_count": 14,
   "id": "db6d6a01-b7fe-4f94-968b-6904288ab9c6",
   "metadata": {},
   "outputs": [],
   "source": [
    "fluc_a = np.empty(nt)\n",
    "fluc_b = np.empty(nt)\n",
    "fluc_c = np.empty(nt)\n",
    "fluc_d = np.empty(nt)\n",
    "fluc_e = np.empty(nt)"
   ]
  },
  {
   "cell_type": "markdown",
   "id": "eab0ab81-751b-4c75-9462-b2fe4bab3155",
   "metadata": {
    "tags": []
   },
   "source": [
    "## Proceso principal"
   ]
  },
  {
   "cell_type": "code",
   "execution_count": 15,
   "id": "d1b76947-d53a-4d7b-aa1f-5df547277233",
   "metadata": {},
   "outputs": [
    {
     "name": "stdout",
     "output_type": "stream",
     "text": [
      "Terminado\n"
     ]
    }
   ],
   "source": [
    "# Simulaciones\n",
    "perfil_est = simulacion(frontera_est)\n",
    "perfil_det = simulacion(frontera_det)\n",
    "# Progreso del trabajo\n",
    "print(\"Terminado\")"
   ]
  },
  {
   "cell_type": "markdown",
   "id": "2c37ad4f-9a44-4a55-a87a-e1534b41a4f2",
   "metadata": {
    "tags": []
   },
   "source": [
    "## Gráficas de muestra"
   ]
  },
  {
   "cell_type": "markdown",
   "id": "93207dbf-547a-46b6-8134-44e89f9502e4",
   "metadata": {},
   "source": [
    "### Perfil de temperatura (calibración)"
   ]
  },
  {
   "cell_type": "code",
   "execution_count": 16,
   "id": "26ad9487-d763-4271-9dca-82e1b2f8826b",
   "metadata": {},
   "outputs": [
    {
     "data": {
      "image/png": "[encoded data removed]",
      "text/plain": [
       "<Figure size 648x648 with 1 Axes>"
      ]
     },
     "metadata": {},
     "output_type": "display_data"
    }
   ],
   "source": [
    "plt.figure(figsize = (9, 9))\n",
    "plt.ylabel(\"$T(x)$\")\n",
    "plt.xlabel(\"$x$\")\n",
    "plt.plot(x, perfil_analitico, lw = 2.0, label = \"analytic\")\n",
    "plt.plot(x, perfil_det, c = \"black\", ls = \"dotted\", lw = 4.5, label = \"numerical\")\n",
    "plt.legend(loc = \"best\")\n",
    "plt.savefig(\"graficas/perfil/fourier_perfil_temperatura.pdf\", bbox_inches = \"tight\")\n",
    "plt.show()"
   ]
  }
 ],
 "metadata": {
  "kernelspec": {
   "display_name": "Python 3 (ipykernel)",
   "language": "python",
   "name": "python3"
  },
  "language_info": {
   "codemirror_mode": {
    "name": "ipython",
    "version": 3
   },
   "file_extension": ".py",
   "mimetype": "text/x-python",
   "name": "python",
   "nbconvert_exporter": "python",
   "pygments_lexer": "ipython3",
   "version": "3.9.12"
  }
 },
 "nbformat": 4,
 "nbformat_minor": 5
}
